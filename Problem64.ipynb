{
 "cells": [
  {
   "cell_type": "code",
   "execution_count": 25,
   "metadata": {
    "collapsed": false
   },
   "outputs": [],
   "source": [
    "class Solution(object):\n",
    "    def minPathSum(self, grid):\n",
    "        \"\"\"\n",
    "        :type grid: List[List[int]]\n",
    "        :rtype: int\n",
    "        \"\"\"\n",
    "        m = len(grid[0])\n",
    "        n = len(grid)\n",
    "        mp = [[0]*m for _ in range(n)]\n",
    "        mp[0][0] = grid[0][0]\n",
    "        for i in xrange(1,m):\n",
    "            mp[0][i] = grid[0][i] + mp[0][i-1]\n",
    "        for i in xrange(1,n):\n",
    "            mp[i][0] = grid[i][0] + mp[i-1][0]    \n",
    "        for i in xrange(1,m):\n",
    "            for j in xrange(1,n):\n",
    "                mp[j][i] = min(mp[j-1][i],mp[j][i-1]) + grid[j][i]    \n",
    "        return mp[-1][-1]        \n",
    "        \n",
    "        \n",
    "        \n",
    "#         print \"n=\",n\n",
    "#         print \"grid\",grid\n",
    "#         grid_down=(grid[0:n-1])\n",
    "# #         print \"grid_down\",grid_down\n",
    "        \n",
    "#         grid_right = []\n",
    "#         for i in range(n):\n",
    "#             grid_right.append(grid[i][0:m-1])\n",
    "# #         print \"grid_right\",grid_right\n",
    "        \n",
    "#         if m == 1 and n > 1:\n",
    "# #             print \"case1\",grid_down,'\\n'\n",
    "#             return self.minPathSum(grid_down) + grid[n-1][m-1]\n",
    "#         elif m > 1 and n == 1:\n",
    "# #             print \"case2\",grid_right,'\\n'\n",
    "#             return self.minPathSum(grid_right) + grid[n-1][m-1]\n",
    "#         elif m == 1 and n ==1:\n",
    "# #             print \"case3\",grid[0][0],'\\n'\n",
    "#             return grid[0][0]\n",
    "#         else:\n",
    "# #             print \"case4\",grid_down,grid_right,'\\n'\n",
    "#             return min(self.minPathSum(grid_down),self.minPathSum(grid_right)) + grid[n-1][m-1]        "
   ]
  },
  {
   "cell_type": "code",
   "execution_count": 43,
   "metadata": {
    "collapsed": false
   },
   "outputs": [
    {
     "name": "stdout",
     "output_type": "stream",
     "text": [
      "[92, 94, 83, 67, 62, 71, 74, 64, 67, 74, 81, 85, 65, 66, 72, 78, 87, 92]\n"
     ]
    }
   ],
   "source": [
    "grid = [[7,1,3,5,8,9,9,2,1,9,0,8,3,1,6,6,9,5],[9,5,9,4,0,4,8,8,9,5,7,3,6,6,6,9,1,6],[8,2,9,1,3,1,9,7,2,5,3,1,2,4,8,2,8,8],[6,7,9,8,4,8,3,0,4,0,9,6,6,0,0,5,1,4],[7,1,3,1,8,8,3,1,2,1,5,0,2,1,9,1,1,4],[9,5,4,3,5,6,1,3,6,4,9,7,0,8,0,3,9,9],[1,4,2,5,8,7,7,0,0,7,1,2,1,2,7,7,7,4],[3,9,7,9,5,8,9,5,6,9,8,8,0,1,4,2,8,2],[1,5,2,2,2,5,6,3,9,3,1,7,9,6,8,6,8,3],[5,7,8,3,8,8,3,9,9,8,1,9,2,5,4,7,7,7],[2,3,2,4,8,5,1,7,2,9,5,2,4,2,9,2,8,7],[0,1,6,1,1,0,0,6,5,4,3,4,3,7,9,6,1,9]]\n",
    "# grid = [[1],[2]\n",
    "#         ]\n",
    "m = len(grid[0])\n",
    "n = len(grid)\n",
    "# print 'm=',m,'n=',n\n",
    "# print grid\n",
    "# print grid[n-1][m-1]\n",
    "\n",
    "mp = [0]*m\n",
    "\n",
    "\n",
    "mp[0] = grid[0][0]\n",
    "for i in xrange(1,m):\n",
    "    mp[i] = grid[0][i] + mp[i-1]\n",
    "# for i in xrange(1,n):\n",
    "#     mp[i][0] = grid[i][0] + mp[i-1][0]    \n",
    "    \n",
    "\n",
    "\n",
    "for i in xrange(1,m):\n",
    "    for j in xrange(n):\n",
    "        mp[j] = min(mp[j-1],mp[j]) + grid[j][i] if j>0 else mp[j]+grid[j][i]\n",
    "print mp"
   ]
  }
 ],
 "metadata": {
  "anaconda-cloud": {},
  "kernelspec": {
   "display_name": "Python [Root]",
   "language": "python",
   "name": "Python [Root]"
  },
  "language_info": {
   "codemirror_mode": {
    "name": "ipython",
    "version": 2
   },
   "file_extension": ".py",
   "mimetype": "text/x-python",
   "name": "python",
   "nbconvert_exporter": "python",
   "pygments_lexer": "ipython2",
   "version": "2.7.12"
  }
 },
 "nbformat": 4,
 "nbformat_minor": 0
}
