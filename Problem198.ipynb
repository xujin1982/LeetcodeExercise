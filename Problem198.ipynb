{
 "cells": [
  {
   "cell_type": "code",
   "execution_count": 45,
   "metadata": {
    "collapsed": true
   },
   "outputs": [],
   "source": [
    "class Solution(object):\n",
    "    def rob(self, nums):\n",
    "        \"\"\"\n",
    "        :type nums: List[int]\n",
    "        :rtype: int\n",
    "        \"\"\"\n",
    "        size = len(nums)\n",
    "        money = [0]*(size+1)\n",
    "        if size:\n",
    "            money[1] = nums[0]\n",
    "        for i in range(2,size+1):\n",
    "            money[i] = max(money[i-1],money[i-2]+nums[i-1])\n",
    "        print money\n",
    "        return money[size]"
   ]
  },
  {
   "cell_type": "code",
   "execution_count": 46,
   "metadata": {
    "collapsed": true
   },
   "outputs": [],
   "source": [
    "class Solution(object):\n",
    "    def rob(self, nums):\n",
    "        \"\"\"\n",
    "        :type nums: List[int]\n",
    "        :rtype: int\n",
    "        \"\"\"\n",
    "        size = len(nums)\n",
    "        temp_0,temp_1 = 0,0\n",
    "        if size:\n",
    "            temp_1 = nums[0]\n",
    "        for i in range(2,size+1):\n",
    "            if i%2 == 0:\n",
    "                temp_0 = max(temp_1,temp_0 + nums[i-1])\n",
    "            else:\n",
    "                temp_1 = max(temp_0,temp_1 + nums[i-1])\n",
    "        return max(temp_0,temp_1)"
   ]
  },
  {
   "cell_type": "code",
   "execution_count": null,
   "metadata": {
    "collapsed": true
   },
   "outputs": [],
   "source": []
  }
 ],
 "metadata": {
  "anaconda-cloud": {},
  "kernelspec": {
   "display_name": "Python [conda root]",
   "language": "python",
   "name": "conda-root-py"
  },
  "language_info": {
   "codemirror_mode": {
    "name": "ipython",
    "version": 2
   },
   "file_extension": ".py",
   "mimetype": "text/x-python",
   "name": "python",
   "nbconvert_exporter": "python",
   "pygments_lexer": "ipython2",
   "version": "2.7.12"
  }
 },
 "nbformat": 4,
 "nbformat_minor": 1
}
